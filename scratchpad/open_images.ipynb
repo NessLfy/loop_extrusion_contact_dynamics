{
 "cells": [
  {
   "cell_type": "code",
   "execution_count": 1,
   "metadata": {},
   "outputs": [],
   "source": [
    "import numpy as np\n",
    "import matplotlib.pyplot as plt\n",
    "import pandas as pd\n",
    "import seaborn as sns\n",
    "import nd2\n",
    "from glob import glob\n",
    "import stackview"
   ]
  },
  {
   "cell_type": "markdown",
   "metadata": {},
   "source": [
    "# Open the images"
   ]
  },
  {
   "cell_type": "code",
   "execution_count": 4,
   "metadata": {},
   "outputs": [
    {
     "data": {
      "text/plain": [
       "['/tungstenfs/scratch/ggiorget/kristina/Microscopy/20240531/20240531_1A2_52deg_0.3%_552nm_1.5%_473nm_5sec_003.nd2.nd2',\n",
       " '/tungstenfs/scratch/ggiorget/kristina/Microscopy/20240531/20240531_1A2_52deg_0.5%_552nm_2%_473nm_5sec_001.nd2.nd2',\n",
       " '/tungstenfs/scratch/ggiorget/kristina/Microscopy/20240531/20240531_1A2_52deg_0.2%_552nm_1.5%_473nm_3sec_008.nd2.nd2',\n",
       " '/tungstenfs/scratch/ggiorget/kristina/Microscopy/20240531/20240531_1A2_52deg_0.2%_552nm_1.5%_473nm_3sec_007.nd2.nd2',\n",
       " '/tungstenfs/scratch/ggiorget/kristina/Microscopy/20240531/20240531_1A2_52deg_0.2%_552nm_1.5%_473nm_5sec_002.nd2.nd2',\n",
       " '/tungstenfs/scratch/ggiorget/kristina/Microscopy/20240531/20240531_1A2_52deg_0.2%_552nm_1.5%_473nm_5sec_006.nd2.nd2',\n",
       " '/tungstenfs/scratch/ggiorget/kristina/Microscopy/20240531/20240531_1A2_52deg_0.5%lasers_5sec_.nd2.nd2']"
      ]
     },
     "execution_count": 4,
     "metadata": {},
     "output_type": "execute_result"
    }
   ],
   "source": [
    "# Path where the images are stores\n",
    "PATH = '/tungstenfs/scratch/ggiorget/kristina/Microscopy/20240531/'\n",
    "\n",
    "# list all images in PATH\n",
    "nd2_files = glob(PATH + '*.nd2')\n",
    "\n",
    "nd2_files"
   ]
  },
  {
   "cell_type": "code",
   "execution_count": 5,
   "metadata": {},
   "outputs": [],
   "source": [
    "# read the images\n",
    "im = nd2.imread(nd2_files[0])"
   ]
  },
  {
   "cell_type": "code",
   "execution_count": 8,
   "metadata": {},
   "outputs": [
    {
     "name": "stdout",
     "output_type": "stream",
     "text": [
      "(300, 15, 2, 976, 976)\n",
      "The imagre has a shape of (300, 15, 2, 976, 976) which means that it has 300 frames, 15 z-planes and 2 channels and is 976x976\n"
     ]
    }
   ],
   "source": [
    "# Check the shape of the image\n",
    "print(im.shape)\n",
    "\n",
    "print(f'The imagre has a shape of {im.shape} which means that it has {im.shape[0]} frames, {im.shape[1]} z-planes and {im.shape[2]} channels and is {im.shape[3]}x{im.shape[4]}')\n",
    "\n",
    "# Reformat the image\n",
    "\n",
    "im_c1 = im[:,:,0,...]\n",
    "im_c2 = im[:,:,1,...]\n",
    "\n",
    "im_c1_max = np.max(im_c1, axis=1) # max projection on the z axis\n",
    "im_c2_max = np.max(im_c2, axis=1) # max projection on the z axis"
   ]
  },
  {
   "cell_type": "code",
   "execution_count": 9,
   "metadata": {},
   "outputs": [
    {
     "data": {
      "application/vnd.jupyter.widget-view+json": {
       "model_id": "07f848e8534648ab9635debea4f05914",
       "version_major": 2,
       "version_minor": 0
      },
      "text/plain": [
       "VBox(children=(HBox(children=(VBox(children=(ImageWidget(height=488, width=488),)),)), IntSlider(value=150, de…"
      ]
     },
     "metadata": {},
     "output_type": "display_data"
    }
   ],
   "source": [
    "# View the image\n",
    "\n",
    "zoom_factor = 0.5 # zoom display by 50% (don't put too much otherwise it crashes)\n",
    "vmin = np.quantile(im_c1_max,0.1) # set the min display intensity value to the 10th percentile\n",
    "vmax = np.quantile(im_c1_max,0.999) # set the max display intensity value to the 99.9th percentile\n",
    "stackview.slice(im_c1_max,zoom_factor=zoom_factor,display_min=vmin,display_max=vmax)"
   ]
  },
  {
   "cell_type": "code",
   "execution_count": null,
   "metadata": {},
   "outputs": [],
   "source": []
  }
 ],
 "metadata": {
  "kernelspec": {
   "display_name": "cohesin_analysis",
   "language": "python",
   "name": "python3"
  },
  "language_info": {
   "codemirror_mode": {
    "name": "ipython",
    "version": 3
   },
   "file_extension": ".py",
   "mimetype": "text/x-python",
   "name": "python",
   "nbconvert_exporter": "python",
   "pygments_lexer": "ipython3",
   "version": "3.10.11"
  }
 },
 "nbformat": 4,
 "nbformat_minor": 2
}
