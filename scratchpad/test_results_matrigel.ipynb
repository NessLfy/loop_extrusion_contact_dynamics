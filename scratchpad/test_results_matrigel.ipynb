{
 "cells": [
  {
   "cell_type": "code",
   "execution_count": 62,
   "metadata": {},
   "outputs": [],
   "source": [
    "import numpy as np\n",
    "import matplotlib.pyplot as plt\n",
    "import pandas as pd\n",
    "import seaborn as sns\n",
    "import nd2\n",
    "from glob import glob\n",
    "import sys\n",
    "sys.path.append('../ipa/src/')\n",
    "import correction_utils as cor"
   ]
  },
  {
   "cell_type": "code",
   "execution_count": 39,
   "metadata": {},
   "outputs": [],
   "source": [
    "df_comb = []\n",
    "for path in glob('../df_filtereddf_filtereds/20240516_beads_matrigel/*_matched_*.csv'):\n",
    "    df_temp = pd.read_csv(path)\n",
    "    df_temp['file'] = path\n",
    "    df_temp['image'] = path.split('_')[9]\n",
    "    df_comb.append(df_temp)\n",
    "\n",
    "df = pd.concat(df_comb)"
   ]
  },
  {
   "cell_type": "code",
   "execution_count": 40,
   "metadata": {},
   "outputs": [
    {
     "data": {
      "text/html": [
       "<div>\n",
       "<style scoped>\n",
       "    .dataframe tbody tr th:only-of-type {\n",
       "        vertical-align: middle;\n",
       "    }\n",
       "\n",
       "    .dataframe tbody tr th {\n",
       "        vertical-align: top;\n",
       "    }\n",
       "\n",
       "    .dataframe thead th {\n",
       "        text-align: right;\n",
       "    }\n",
       "</style>\n",
       "<table border=\"1\" class=\"dataframe\">\n",
       "  <thead>\n",
       "    <tr style=\"text-align: right;\">\n",
       "      <th></th>\n",
       "      <th>x</th>\n",
       "      <th>y</th>\n",
       "      <th>z</th>\n",
       "      <th>x_fitted</th>\n",
       "      <th>y_fitted</th>\n",
       "      <th>z_fitted</th>\n",
       "      <th>frame</th>\n",
       "      <th>method</th>\n",
       "      <th>channel</th>\n",
       "      <th>x_um</th>\n",
       "      <th>y_um</th>\n",
       "      <th>z_um</th>\n",
       "      <th>dx</th>\n",
       "      <th>dy</th>\n",
       "      <th>dz</th>\n",
       "      <th>file</th>\n",
       "      <th>image</th>\n",
       "    </tr>\n",
       "  </thead>\n",
       "  <tbody>\n",
       "    <tr>\n",
       "      <th>0</th>\n",
       "      <td>431.0</td>\n",
       "      <td>583.0</td>\n",
       "      <td>10.0</td>\n",
       "      <td>430.577954</td>\n",
       "      <td>583.208083</td>\n",
       "      <td>10.197073</td>\n",
       "      <td>0</td>\n",
       "      <td>gaussian</td>\n",
       "      <td>0</td>\n",
       "      <td>55.975134</td>\n",
       "      <td>75.817051</td>\n",
       "      <td>2.039415</td>\n",
       "      <td>-0.113589</td>\n",
       "      <td>0.095182</td>\n",
       "      <td>-0.021669</td>\n",
       "      <td>../runs/20240516_beads_matrigel/detections_mat...</td>\n",
       "      <td>006</td>\n",
       "    </tr>\n",
       "    <tr>\n",
       "      <th>0</th>\n",
       "      <td>858.0</td>\n",
       "      <td>712.0</td>\n",
       "      <td>8.0</td>\n",
       "      <td>857.178573</td>\n",
       "      <td>712.042700</td>\n",
       "      <td>7.758204</td>\n",
       "      <td>0</td>\n",
       "      <td>gaussian</td>\n",
       "      <td>0</td>\n",
       "      <td>111.433214</td>\n",
       "      <td>92.565551</td>\n",
       "      <td>1.551641</td>\n",
       "      <td>-0.089794</td>\n",
       "      <td>0.020372</td>\n",
       "      <td>0.179856</td>\n",
       "      <td>../runs/20240516_beads_matrigel/detections_mat...</td>\n",
       "      <td>004</td>\n",
       "    </tr>\n",
       "    <tr>\n",
       "      <th>1</th>\n",
       "      <td>782.0</td>\n",
       "      <td>38.0</td>\n",
       "      <td>14.0</td>\n",
       "      <td>782.460600</td>\n",
       "      <td>37.499488</td>\n",
       "      <td>14.228962</td>\n",
       "      <td>0</td>\n",
       "      <td>gaussian</td>\n",
       "      <td>0</td>\n",
       "      <td>101.719878</td>\n",
       "      <td>4.874933</td>\n",
       "      <td>2.845792</td>\n",
       "      <td>0.110684</td>\n",
       "      <td>-0.150566</td>\n",
       "      <td>0.026917</td>\n",
       "      <td>../runs/20240516_beads_matrigel/detections_mat...</td>\n",
       "      <td>004</td>\n",
       "    </tr>\n",
       "    <tr>\n",
       "      <th>2</th>\n",
       "      <td>90.0</td>\n",
       "      <td>524.0</td>\n",
       "      <td>14.0</td>\n",
       "      <td>89.524850</td>\n",
       "      <td>523.923138</td>\n",
       "      <td>14.269987</td>\n",
       "      <td>0</td>\n",
       "      <td>gaussian</td>\n",
       "      <td>0</td>\n",
       "      <td>11.638231</td>\n",
       "      <td>68.110008</td>\n",
       "      <td>2.853997</td>\n",
       "      <td>-0.102614</td>\n",
       "      <td>0.059650</td>\n",
       "      <td>-0.016411</td>\n",
       "      <td>../runs/20240516_beads_matrigel/detections_mat...</td>\n",
       "      <td>004</td>\n",
       "    </tr>\n",
       "    <tr>\n",
       "      <th>3</th>\n",
       "      <td>405.0</td>\n",
       "      <td>835.0</td>\n",
       "      <td>4.0</td>\n",
       "      <td>404.511707</td>\n",
       "      <td>834.767186</td>\n",
       "      <td>4.497500</td>\n",
       "      <td>0</td>\n",
       "      <td>gaussian</td>\n",
       "      <td>0</td>\n",
       "      <td>52.586522</td>\n",
       "      <td>108.519734</td>\n",
       "      <td>0.899500</td>\n",
       "      <td>0.013740</td>\n",
       "      <td>-0.025427</td>\n",
       "      <td>0.027675</td>\n",
       "      <td>../runs/20240516_beads_matrigel/detections_mat...</td>\n",
       "      <td>004</td>\n",
       "    </tr>\n",
       "    <tr>\n",
       "      <th>...</th>\n",
       "      <td>...</td>\n",
       "      <td>...</td>\n",
       "      <td>...</td>\n",
       "      <td>...</td>\n",
       "      <td>...</td>\n",
       "      <td>...</td>\n",
       "      <td>...</td>\n",
       "      <td>...</td>\n",
       "      <td>...</td>\n",
       "      <td>...</td>\n",
       "      <td>...</td>\n",
       "      <td>...</td>\n",
       "      <td>...</td>\n",
       "      <td>...</td>\n",
       "      <td>...</td>\n",
       "      <td>...</td>\n",
       "      <td>...</td>\n",
       "    </tr>\n",
       "    <tr>\n",
       "      <th>9</th>\n",
       "      <td>366.0</td>\n",
       "      <td>457.0</td>\n",
       "      <td>4.0</td>\n",
       "      <td>365.575050</td>\n",
       "      <td>457.454233</td>\n",
       "      <td>3.607202</td>\n",
       "      <td>0</td>\n",
       "      <td>gaussian</td>\n",
       "      <td>0</td>\n",
       "      <td>47.524756</td>\n",
       "      <td>59.469050</td>\n",
       "      <td>0.721440</td>\n",
       "      <td>-0.123303</td>\n",
       "      <td>0.080188</td>\n",
       "      <td>-0.020983</td>\n",
       "      <td>../runs/20240516_beads_matrigel/detections_mat...</td>\n",
       "      <td>009</td>\n",
       "    </tr>\n",
       "    <tr>\n",
       "      <th>10</th>\n",
       "      <td>583.0</td>\n",
       "      <td>67.0</td>\n",
       "      <td>13.0</td>\n",
       "      <td>583.113592</td>\n",
       "      <td>66.582502</td>\n",
       "      <td>13.494507</td>\n",
       "      <td>0</td>\n",
       "      <td>gaussian</td>\n",
       "      <td>0</td>\n",
       "      <td>75.804767</td>\n",
       "      <td>8.655725</td>\n",
       "      <td>2.698901</td>\n",
       "      <td>0.169459</td>\n",
       "      <td>-0.172227</td>\n",
       "      <td>-0.128111</td>\n",
       "      <td>../runs/20240516_beads_matrigel/detections_mat...</td>\n",
       "      <td>009</td>\n",
       "    </tr>\n",
       "    <tr>\n",
       "      <th>11</th>\n",
       "      <td>716.0</td>\n",
       "      <td>858.0</td>\n",
       "      <td>15.0</td>\n",
       "      <td>715.725425</td>\n",
       "      <td>858.209533</td>\n",
       "      <td>15.249354</td>\n",
       "      <td>0</td>\n",
       "      <td>gaussian</td>\n",
       "      <td>0</td>\n",
       "      <td>93.044305</td>\n",
       "      <td>111.567239</td>\n",
       "      <td>3.049871</td>\n",
       "      <td>0.042084</td>\n",
       "      <td>0.006963</td>\n",
       "      <td>-0.007285</td>\n",
       "      <td>../runs/20240516_beads_matrigel/detections_mat...</td>\n",
       "      <td>009</td>\n",
       "    </tr>\n",
       "    <tr>\n",
       "      <th>12</th>\n",
       "      <td>698.0</td>\n",
       "      <td>838.0</td>\n",
       "      <td>5.0</td>\n",
       "      <td>694.396861</td>\n",
       "      <td>838.041335</td>\n",
       "      <td>5.211172</td>\n",
       "      <td>0</td>\n",
       "      <td>gaussian</td>\n",
       "      <td>0</td>\n",
       "      <td>90.271592</td>\n",
       "      <td>108.945374</td>\n",
       "      <td>1.042234</td>\n",
       "      <td>0.026238</td>\n",
       "      <td>-0.006509</td>\n",
       "      <td>-0.000451</td>\n",
       "      <td>../runs/20240516_beads_matrigel/detections_mat...</td>\n",
       "      <td>009</td>\n",
       "    </tr>\n",
       "    <tr>\n",
       "      <th>13</th>\n",
       "      <td>393.0</td>\n",
       "      <td>687.0</td>\n",
       "      <td>10.0</td>\n",
       "      <td>392.897123</td>\n",
       "      <td>686.875119</td>\n",
       "      <td>10.031187</td>\n",
       "      <td>0</td>\n",
       "      <td>gaussian</td>\n",
       "      <td>0</td>\n",
       "      <td>51.076626</td>\n",
       "      <td>89.293766</td>\n",
       "      <td>2.006237</td>\n",
       "      <td>0.033701</td>\n",
       "      <td>-0.038355</td>\n",
       "      <td>-0.011196</td>\n",
       "      <td>../runs/20240516_beads_matrigel/detections_mat...</td>\n",
       "      <td>009</td>\n",
       "    </tr>\n",
       "  </tbody>\n",
       "</table>\n",
       "<p>284 rows × 17 columns</p>\n",
       "</div>"
      ],
      "text/plain": [
       "        x      y     z    x_fitted    y_fitted   z_fitted frame    method  \\\n",
       "0   431.0  583.0  10.0  430.577954  583.208083  10.197073     0  gaussian   \n",
       "0   858.0  712.0   8.0  857.178573  712.042700   7.758204     0  gaussian   \n",
       "1   782.0   38.0  14.0  782.460600   37.499488  14.228962     0  gaussian   \n",
       "2    90.0  524.0  14.0   89.524850  523.923138  14.269987     0  gaussian   \n",
       "3   405.0  835.0   4.0  404.511707  834.767186   4.497500     0  gaussian   \n",
       "..    ...    ...   ...         ...         ...        ...   ...       ...   \n",
       "9   366.0  457.0   4.0  365.575050  457.454233   3.607202     0  gaussian   \n",
       "10  583.0   67.0  13.0  583.113592   66.582502  13.494507     0  gaussian   \n",
       "11  716.0  858.0  15.0  715.725425  858.209533  15.249354     0  gaussian   \n",
       "12  698.0  838.0   5.0  694.396861  838.041335   5.211172     0  gaussian   \n",
       "13  393.0  687.0  10.0  392.897123  686.875119  10.031187     0  gaussian   \n",
       "\n",
       "   channel        x_um        y_um      z_um        dx        dy        dz  \\\n",
       "0        0   55.975134   75.817051  2.039415 -0.113589  0.095182 -0.021669   \n",
       "0        0  111.433214   92.565551  1.551641 -0.089794  0.020372  0.179856   \n",
       "1        0  101.719878    4.874933  2.845792  0.110684 -0.150566  0.026917   \n",
       "2        0   11.638231   68.110008  2.853997 -0.102614  0.059650 -0.016411   \n",
       "3        0   52.586522  108.519734  0.899500  0.013740 -0.025427  0.027675   \n",
       "..     ...         ...         ...       ...       ...       ...       ...   \n",
       "9        0   47.524756   59.469050  0.721440 -0.123303  0.080188 -0.020983   \n",
       "10       0   75.804767    8.655725  2.698901  0.169459 -0.172227 -0.128111   \n",
       "11       0   93.044305  111.567239  3.049871  0.042084  0.006963 -0.007285   \n",
       "12       0   90.271592  108.945374  1.042234  0.026238 -0.006509 -0.000451   \n",
       "13       0   51.076626   89.293766  2.006237  0.033701 -0.038355 -0.011196   \n",
       "\n",
       "                                                 file image  \n",
       "0   ../runs/20240516_beads_matrigel/detections_mat...   006  \n",
       "0   ../runs/20240516_beads_matrigel/detections_mat...   004  \n",
       "1   ../runs/20240516_beads_matrigel/detections_mat...   004  \n",
       "2   ../runs/20240516_beads_matrigel/detections_mat...   004  \n",
       "3   ../runs/20240516_beads_matrigel/detections_mat...   004  \n",
       "..                                                ...   ...  \n",
       "9   ../runs/20240516_beads_matrigel/detections_mat...   009  \n",
       "10  ../runs/20240516_beads_matrigel/detections_mat...   009  \n",
       "11  ../runs/20240516_beads_matrigel/detections_mat...   009  \n",
       "12  ../runs/20240516_beads_matrigel/detections_mat...   009  \n",
       "13  ../runs/20240516_beads_matrigel/detections_mat...   009  \n",
       "\n",
       "[284 rows x 17 columns]"
      ]
     },
     "execution_count": 40,
     "metadata": {},
     "output_type": "execute_result"
    }
   ],
   "source": [
    "df"
   ]
  },
  {
   "cell_type": "code",
   "execution_count": 41,
   "metadata": {},
   "outputs": [
    {
     "data": {
      "text/plain": [
       "-0.013669739316642723"
      ]
     },
     "execution_count": 41,
     "metadata": {},
     "output_type": "execute_result"
    }
   ],
   "source": [
    "df.dx.mean()"
   ]
  },
  {
   "cell_type": "code",
   "execution_count": 42,
   "metadata": {},
   "outputs": [
    {
     "data": {
      "text/plain": [
       "-0.021793102726950415"
      ]
     },
     "execution_count": 42,
     "metadata": {},
     "output_type": "execute_result"
    }
   ],
   "source": [
    "df.dy.mean()"
   ]
  },
  {
   "cell_type": "code",
   "execution_count": 43,
   "metadata": {},
   "outputs": [
    {
     "data": {
      "text/plain": [
       "0.014067512600377013"
      ]
     },
     "execution_count": 43,
     "metadata": {},
     "output_type": "execute_result"
    }
   ],
   "source": [
    "df.dz.mean()"
   ]
  },
  {
   "cell_type": "code",
   "execution_count": 46,
   "metadata": {},
   "outputs": [
    {
     "data": {
      "text/plain": [
       "[<matplotlib.lines.Line2D at 0x7f4d2320f2b0>]"
      ]
     },
     "execution_count": 46,
     "metadata": {},
     "output_type": "execute_result"
    },
    {
     "data": {
      "image/png": "[encoded data removed]",
      "text/plain": [
       "<Figure size 640x480 with 1 Axes>"
      ]
     },
     "metadata": {},
     "output_type": "display_data"
    }
   ],
   "source": [
    "\n",
    "plt.plot(df['z_fitted'], df['dz'], 'o', markersize=1)"
   ]
  },
  {
   "cell_type": "code",
   "execution_count": 49,
   "metadata": {},
   "outputs": [
    {
     "data": {
      "image/png": "[encoded data removed]",
      "text/plain": [
       "<Figure size 640x480 with 1 Axes>"
      ]
     },
     "metadata": {},
     "output_type": "display_data"
    }
   ],
   "source": [
    "b = 40\n",
    "plt.hist(df['dx'], bins=b,histtype='step',label='dx',density=True)\n",
    "plt.hist(df['dy'], bins=b,histtype='step',label='dy',density=True)\n",
    "plt.hist(df['dz'], bins=b,histtype='step',label='dz',density=True)\n",
    "plt.legend()\n",
    "plt.show()"
   ]
  },
  {
   "cell_type": "code",
   "execution_count": 50,
   "metadata": {},
   "outputs": [],
   "source": [
    "pixel_xy = 0.13 \n",
    "pixel_z = 0.2\n",
    "\n",
    "df_filtered = df[(df['dx'] < pixel_xy) & (df['dy'] <pixel_xy) & (df['dz'] < pixel_z)]"
   ]
  },
  {
   "cell_type": "code",
   "execution_count": 51,
   "metadata": {},
   "outputs": [
    {
     "data": {
      "image/png": "[encoded data removed]",
      "text/plain": [
       "<Figure size 640x480 with 1 Axes>"
      ]
     },
     "metadata": {},
     "output_type": "display_data"
    }
   ],
   "source": [
    "b = 40\n",
    "plt.hist(df_filtered['dx'], bins=b,histtype='step',label='dx',density=True)\n",
    "plt.hist(df_filtered['dy'], bins=b,histtype='step',label='dy',density=True)\n",
    "plt.hist(df_filtered['dz'], bins=b,histtype='step',label='dz',density=True)\n",
    "plt.legend()\n",
    "plt.show()"
   ]
  },
  {
   "cell_type": "code",
   "execution_count": 52,
   "metadata": {},
   "outputs": [
    {
     "name": "stdout",
     "output_type": "stream",
     "text": [
      "dx: -0.015757761660647063, dy: -0.014118047080839356, dz: -0.0001341527592239211\n"
     ]
    }
   ],
   "source": [
    "print(f\"dx: {df_filtered['dx'].mean()}, dy: {df_filtered['dy'].mean()}, dz: {df_filtered['dz'].mean()}\")"
   ]
  },
  {
   "cell_type": "code",
   "execution_count": 76,
   "metadata": {},
   "outputs": [
    {
     "data": {
      "text/plain": [
       "0.1250361468614865"
      ]
     },
     "execution_count": 76,
     "metadata": {},
     "output_type": "execute_result"
    }
   ],
   "source": [
    "d = np.mean(np.sqrt(df_filtered['dx']**2 + df_filtered['dy']**2+df_filtered['dz']**2))\n",
    "d"
   ]
  },
  {
   "cell_type": "code",
   "execution_count": 61,
   "metadata": {},
   "outputs": [],
   "source": [
    "reference = df_filtered[['x','y','z']].values.T\n",
    "moving = df_filtered[['x','y','z']].values.T + df_filtered[['dx','dy','dz']].values.T"
   ]
  },
  {
   "cell_type": "code",
   "execution_count": 63,
   "metadata": {},
   "outputs": [],
   "source": [
    "R, t = cor.calculate_rototranslation_3D(reference.T,moving.T)"
   ]
  },
  {
   "cell_type": "code",
   "execution_count": 64,
   "metadata": {},
   "outputs": [],
   "source": [
    "moving_cor = np.dot(R,moving)+t"
   ]
  },
  {
   "cell_type": "code",
   "execution_count": 65,
   "metadata": {},
   "outputs": [],
   "source": [
    "dx,dy,dz = reference - moving_cor"
   ]
  },
  {
   "cell_type": "code",
   "execution_count": 68,
   "metadata": {},
   "outputs": [
    {
     "name": "stdout",
     "output_type": "stream",
     "text": [
      "0.10498983395463998 0.10610826265136729\n"
     ]
    }
   ],
   "source": [
    "print(np.std(dz),np.std(df_filtered['dz']))"
   ]
  },
  {
   "cell_type": "code",
   "execution_count": 72,
   "metadata": {},
   "outputs": [
    {
     "data": {
      "image/png": "[encoded data removed]",
      "text/plain": [
       "<Figure size 640x480 with 1 Axes>"
      ]
     },
     "metadata": {},
     "output_type": "display_data"
    }
   ],
   "source": [
    "b = 40\n",
    "# plt.hist(df_filtered['dx'], bins=b,histtype='step',label='dx',density=True)\n",
    "# plt.hist(dx, bins=b,histtype='step',label='dx cor',density=True)\n",
    "# plt.hist(df_filtered['dy'], bins=b,histtype='step',label='dy',density=True)\n",
    "# plt.hist(dy, bins=b,histtype='step',label='dy cor',density=True)\n",
    "plt.hist(df_filtered['dz'], bins=b,histtype='step',label='dz',density=True)\n",
    "plt.hist(dz, bins=b,histtype='step',label='dz cor',density=True)\n",
    "plt.legend()\n",
    "plt.show()"
   ]
  },
  {
   "cell_type": "code",
   "execution_count": 73,
   "metadata": {},
   "outputs": [
    {
     "data": {
      "text/plain": [
       "0.12401208272789298"
      ]
     },
     "execution_count": 73,
     "metadata": {},
     "output_type": "execute_result"
    }
   ],
   "source": [
    "d_cor = np.mean(np.sqrt(dx**2 + dy**2+dz**2))\n",
    "d_cor"
   ]
  },
  {
   "cell_type": "code",
   "execution_count": 77,
   "metadata": {},
   "outputs": [
    {
     "name": "stdout",
     "output_type": "stream",
     "text": [
      "0.1250361468614865 0.12401208272789298\n"
     ]
    }
   ],
   "source": [
    "print(d,d_cor)"
   ]
  },
  {
   "cell_type": "code",
   "execution_count": null,
   "metadata": {},
   "outputs": [],
   "source": []
  }
 ],
 "metadata": {
  "kernelspec": {
   "display_name": "cohesin_analysis",
   "language": "python",
   "name": "python3"
  },
  "language_info": {
   "codemirror_mode": {
    "name": "ipython",
    "version": 3
   },
   "file_extension": ".py",
   "mimetype": "text/x-python",
   "name": "python",
   "nbconvert_exporter": "python",
   "pygments_lexer": "ipython3",
   "version": "3.10.11"
  }
 },
 "nbformat": 4,
 "nbformat_minor": 2
}
